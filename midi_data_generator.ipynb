{
 "cells": [
  {
   "cell_type": "code",
   "execution_count": 1,
   "id": "739758e8",
   "metadata": {},
   "outputs": [],
   "source": [
    "from midi_functions import *"
   ]
  },
  {
   "cell_type": "code",
   "execution_count": 2,
   "id": "f46df619",
   "metadata": {},
   "outputs": [],
   "source": [
    "midi_list = find_midis_in_folder('jazz_midis/')"
   ]
  },
  {
   "cell_type": "code",
   "execution_count": 3,
   "id": "e2224ef6",
   "metadata": {},
   "outputs": [
    {
     "data": {
      "text/plain": [
       "321"
      ]
     },
     "execution_count": 3,
     "metadata": {},
     "output_type": "execute_result"
    }
   ],
   "source": [
    "len(midi_list)"
   ]
  },
  {
   "cell_type": "code",
   "execution_count": 19,
   "id": "f186c922-1e0d-490c-8cf0-6878045803ab",
   "metadata": {},
   "outputs": [],
   "source": [
    "# quick_listen_to_midi(midi_list[123], 'soundfonts/donkey_kong_country_soundfont_collection/Donkey Kong Country 2012.sf2', 'test_output')"
   ]
  },
  {
   "cell_type": "code",
   "execution_count": 4,
   "id": "df05940d-4d47-4fb2-82de-420b67868fcc",
   "metadata": {},
   "outputs": [],
   "source": [
    "from mido import MidiFile\n",
    "midi_data = MidiFile(midi_list[0])\n",
    "messages = [msg for msg in midi_data]"
   ]
  },
  {
   "cell_type": "code",
   "execution_count": 6,
   "id": "b27f112c-f387-4495-8462-603f9546a09d",
   "metadata": {},
   "outputs": [
    {
     "data": {
      "text/plain": [
       "array([['control_change', '0', '-1', ..., '100', '0', '0'],\n",
       "       ['control_change', '0', '-1', ..., '101', '0', '0'],\n",
       "       ['control_change', '0', '-1', ..., '6', '12', '0'],\n",
       "       ...,\n",
       "       ['note_off', '0', '52', ..., '-1', '-1', '0'],\n",
       "       ['note_off', '0', '45', ..., '-1', '-1', '0'],\n",
       "       ['note_off', '4', '33', ..., '-1', '-1', '0']], dtype='<U21')"
      ]
     },
     "execution_count": 6,
     "metadata": {},
     "output_type": "execute_result"
    }
   ],
   "source": [
    "encode_midi_properties(midi_list[0])"
   ]
  },
  {
   "cell_type": "code",
   "execution_count": 7,
   "id": "1ffbc9d9-a519-454e-a34e-3979df82ed87",
   "metadata": {},
   "outputs": [],
   "source": [
    "# decode_midi_properties(encode_midi_properties(midi_list[0]))"
   ]
  },
  {
   "cell_type": "code",
   "execution_count": 8,
   "id": "05afcf0a",
   "metadata": {},
   "outputs": [],
   "source": [
    "import numpy as np"
   ]
  },
  {
   "cell_type": "code",
   "execution_count": 9,
   "id": "2768fe32-1d77-4097-a556-83a4c83fb320",
   "metadata": {},
   "outputs": [],
   "source": [
    "from tqdm import tqdm"
   ]
  },
  {
   "cell_type": "code",
   "execution_count": 10,
   "id": "f2289f44-95b5-4e49-a6f7-0f9ab74a16d6",
   "metadata": {},
   "outputs": [],
   "source": [
    "num_features = encode_midi_properties(midi_list[0]).shape[-1]\n",
    "\n",
    "output_folder = 'jazz_midi_npys/'\n",
    "\n",
    "tokenizer = MidiTokenizer(num_features=num_features)\n",
    "\n",
    "tokenizer_save_file = 'model_states/jazz_tokenizer'\n",
    "\n",
    "# try:\n",
    "#     tokenizer.load(tokenizer_save_file)\n",
    "# except:\n",
    "#     pass"
   ]
  },
  {
   "cell_type": "code",
   "execution_count": 11,
   "id": "ad1f6fc9-2a4e-442f-8e3d-f7841ce836ae",
   "metadata": {},
   "outputs": [
    {
     "data": {
      "text/plain": [
       "array([['control_change', '0', '-1', ..., '100', '0', '0'],\n",
       "       ['control_change', '0', '-1', ..., '101', '0', '0'],\n",
       "       ['control_change', '0', '-1', ..., '6', '12', '0'],\n",
       "       ...,\n",
       "       ['note_off', '0', '52', ..., '-1', '-1', '0'],\n",
       "       ['note_off', '0', '45', ..., '-1', '-1', '0'],\n",
       "       ['note_off', '4', '33', ..., '-1', '-1', '0']], dtype='<U21')"
      ]
     },
     "execution_count": 11,
     "metadata": {},
     "output_type": "execute_result"
    }
   ],
   "source": [
    "encode_midi_properties(midi_list[0])"
   ]
  },
  {
   "cell_type": "code",
   "execution_count": 12,
   "id": "e13b54f1-47f9-403b-8208-86b6159b514a",
   "metadata": {},
   "outputs": [
    {
     "data": {
      "text/plain": [
       "array([[ 1,  1,  1, ...,  1,  1,  1],\n",
       "       [ 1,  1,  1, ...,  2,  1,  1],\n",
       "       [ 1,  1,  1, ...,  3,  2,  1],\n",
       "       ...,\n",
       "       [ 5,  1, 22, ...,  4,  3,  1],\n",
       "       [ 5,  1,  5, ...,  4,  3,  1],\n",
       "       [ 5,  5, 14, ...,  4,  3,  1]])"
      ]
     },
     "execution_count": 12,
     "metadata": {},
     "output_type": "execute_result"
    }
   ],
   "source": [
    "tokenizer.tokenize(encode_midi_properties(midi_list[0]))"
   ]
  },
  {
   "cell_type": "code",
   "execution_count": 13,
   "id": "0d7b2461-54c0-45bb-84e5-b4587eb1a96b",
   "metadata": {},
   "outputs": [
    {
     "data": {
      "text/plain": [
       "array([['control_change', '0', '-1', '-1', '-1', '100', '0', '0'],\n",
       "       ['control_change', '0', '-1', '-1', '-1', '101', '0', '0'],\n",
       "       ['control_change', '0', '-1', '-1', '-1', '6', '12', '0'],\n",
       "       ['pitchwheel', '0', '-1', '-1', '0', '-1', '-1', '0'],\n",
       "       ['control_change', '1', '-1', '-1', '-1', '100', '0', '0'],\n",
       "       ['control_change', '1', '-1', '-1', '-1', '101', '0', '0'],\n",
       "       ['control_change', '1', '-1', '-1', '-1', '6', '12', '0'],\n",
       "       ['pitchwheel', '1', '-1', '-1', '0', '-1', '-1', '0'],\n",
       "       ['program_change', '0', '-1', '-1', '-1', '-1', '-1', '0'],\n",
       "       ['program_change', '1', '-1', '-1', '-1', '-1', '-1', '0'],\n",
       "       ['control_change', '0', '-1', '-1', '-1', '7', '127', '0'],\n",
       "       ['control_change', '1', '-1', '-1', '-1', '7', '127', '0'],\n",
       "       ['control_change', '0', '-1', '-1', '-1', '10', '127', '0'],\n",
       "       ['control_change', '1', '-1', '-1', '-1', '10', '127', '0'],\n",
       "       ['control_change', '0', '-1', '-1', '-1', '93', '0', '0'],\n",
       "       ['control_change', '1', '-1', '-1', '-1', '93', '0', '0'],\n",
       "       ['control_change', '0', '-1', '-1', '-1', '91', '40', '0'],\n",
       "       ['control_change', '1', '-1', '-1', '-1', '91', '40', '0'],\n",
       "       ['control_change', '0', '-1', '-1', '-1', '92', '0', '0'],\n",
       "       ['control_change', '1', '-1', '-1', '-1', '92', '0', '0'],\n",
       "       ['control_change', '0', '-1', '-1', '-1', '95', '0', '0'],\n",
       "       ['control_change', '1', '-1', '-1', '-1', '95', '0', '0'],\n",
       "       ['note_on', '0', '57', '95', '-1', '-1', '-1', '0'],\n",
       "       ['control_change', '2', '-1', '-1', '-1', '100', '0', '0'],\n",
       "       ['control_change', '2', '-1', '-1', '-1', '101', '0', '0'],\n",
       "       ['control_change', '2', '-1', '-1', '-1', '6', '12', '0'],\n",
       "       ['pitchwheel', '2', '-1', '-1', '0', '-1', '-1', '0'],\n",
       "       ['control_change', '3', '-1', '-1', '-1', '100', '0', '0'],\n",
       "       ['control_change', '3', '-1', '-1', '-1', '101', '0', '0'],\n",
       "       ['control_change', '3', '-1', '-1', '-1', '6', '12', '0'],\n",
       "       ['pitchwheel', '3', '-1', '-1', '0', '-1', '-1', '0'],\n",
       "       ['program_change', '2', '-1', '-1', '-1', '-1', '-1', '0'],\n",
       "       ['program_change', '3', '-1', '-1', '-1', '-1', '-1', '0'],\n",
       "       ['control_change', '2', '-1', '-1', '-1', '7', '88', '0'],\n",
       "       ['control_change', '3', '-1', '-1', '-1', '7', '88', '0'],\n",
       "       ['control_change', '2', '-1', '-1', '-1', '10', '0', '0'],\n",
       "       ['control_change', '3', '-1', '-1', '-1', '10', '0', '0'],\n",
       "       ['control_change', '2', '-1', '-1', '-1', '93', '0', '0'],\n",
       "       ['control_change', '3', '-1', '-1', '-1', '93', '0', '0'],\n",
       "       ['control_change', '2', '-1', '-1', '-1', '91', '0', '0'],\n",
       "       ['control_change', '3', '-1', '-1', '-1', '91', '0', '0'],\n",
       "       ['control_change', '2', '-1', '-1', '-1', '92', '0', '0'],\n",
       "       ['control_change', '3', '-1', '-1', '-1', '92', '0', '0'],\n",
       "       ['control_change', '2', '-1', '-1', '-1', '95', '0', '0'],\n",
       "       ['control_change', '3', '-1', '-1', '-1', '95', '0', '0'],\n",
       "       ['control_change', '4', '-1', '-1', '-1', '100', '0', '0'],\n",
       "       ['control_change', '4', '-1', '-1', '-1', '101', '0', '0'],\n",
       "       ['control_change', '4', '-1', '-1', '-1', '6', '12', '0'],\n",
       "       ['pitchwheel', '4', '-1', '-1', '0', '-1', '-1', '0'],\n",
       "       ['control_change', '5', '-1', '-1', '-1', '100', '0', '0'],\n",
       "       ['control_change', '5', '-1', '-1', '-1', '101', '0', '0'],\n",
       "       ['control_change', '5', '-1', '-1', '-1', '6', '12', '0'],\n",
       "       ['pitchwheel', '5', '-1', '-1', '0', '-1', '-1', '0'],\n",
       "       ['program_change', '4', '-1', '-1', '-1', '-1', '-1', '0'],\n",
       "       ['program_change', '5', '-1', '-1', '-1', '-1', '-1', '0'],\n",
       "       ['control_change', '4', '-1', '-1', '-1', '7', '127', '0'],\n",
       "       ['control_change', '5', '-1', '-1', '-1', '7', '127', '0'],\n",
       "       ['control_change', '4', '-1', '-1', '-1', '10', '64', '0'],\n",
       "       ['control_change', '5', '-1', '-1', '-1', '10', '64', '0'],\n",
       "       ['control_change', '4', '-1', '-1', '-1', '93', '0', '0'],\n",
       "       ['control_change', '5', '-1', '-1', '-1', '93', '0', '0'],\n",
       "       ['control_change', '4', '-1', '-1', '-1', '91', '0', '0'],\n",
       "       ['control_change', '5', '-1', '-1', '-1', '91', '0', '0'],\n",
       "       ['control_change', '4', '-1', '-1', '-1', '92', '0', '0'],\n",
       "       ['control_change', '5', '-1', '-1', '-1', '92', '0', '0'],\n",
       "       ['control_change', '4', '-1', '-1', '-1', '95', '0', '0'],\n",
       "       ['control_change', '5', '-1', '-1', '-1', '95', '0', '0'],\n",
       "       ['note_on', '4', '40', '95', '-1', '-1', '-1', '0'],\n",
       "       ['note_off', '0', '57', '80', '-1', '-1', '-1', '73'],\n",
       "       ['note_on', '0', '60', '95', '-1', '-1', '-1', '0'],\n",
       "       ['note_off', '4', '40', '80', '-1', '-1', '-1', '0'],\n",
       "       ['note_on', '4', '45', '95', '-1', '-1', '-1', '0'],\n",
       "       ['note_off', '0', '60', '80', '-1', '-1', '-1', '73'],\n",
       "       ['note_on', '0', '64', '95', '-1', '-1', '-1', '0'],\n",
       "       ['note_off', '4', '45', '80', '-1', '-1', '-1', '0'],\n",
       "       ['note_on', '4', '48', '95', '-1', '-1', '-1', '0'],\n",
       "       ['note_off', '0', '64', '80', '-1', '-1', '-1', '110'],\n",
       "       ['note_on', '0', '65', '95', '-1', '-1', '-1', '0'],\n",
       "       ['note_off', '4', '48', '80', '-1', '-1', '-1', '0'],\n",
       "       ['note_on', '4', '50', '95', '-1', '-1', '-1', '0'],\n",
       "       ['note_off', '0', '65', '80', '-1', '-1', '-1', '18'],\n",
       "       ['note_on', '0', '64', '95', '-1', '-1', '-1', '0'],\n",
       "       ['note_off', '4', '50', '80', '-1', '-1', '-1', '0'],\n",
       "       ['note_on', '4', '48', '95', '-1', '-1', '-1', '0'],\n",
       "       ['note_off', '0', '64', '80', '-1', '-1', '-1', '18'],\n",
       "       ['note_on', '0', '62', '95', '-1', '-1', '-1', '0'],\n",
       "       ['note_off', '4', '48', '80', '-1', '-1', '-1', '0'],\n",
       "       ['note_on', '4', '47', '95', '-1', '-1', '-1', '0'],\n",
       "       ['note_off', '0', '62', '80', '-1', '-1', '-1', '73'],\n",
       "       ['note_on', '0', '65', '95', '-1', '-1', '-1', '0'],\n",
       "       ['note_off', '4', '47', '80', '-1', '-1', '-1', '0'],\n",
       "       ['note_on', '4', '50', '95', '-1', '-1', '-1', '0'],\n",
       "       ['note_off', '0', '65', '80', '-1', '-1', '-1', '36'],\n",
       "       ['note_on', '0', '69', '95', '-1', '-1', '-1', '0'],\n",
       "       ['note_off', '4', '50', '80', '-1', '-1', '-1', '0'],\n",
       "       ['note_on', '4', '53', '95', '-1', '-1', '-1', '0'],\n",
       "       ['note_off', '0', '69', '80', '-1', '-1', '-1', '110'],\n",
       "       ['note_off', '4', '53', '80', '-1', '-1', '-1', '0'],\n",
       "       ['note_on', '0', '57', '95', '-1', '-1', '-1', '73'],\n",
       "       ['note_on', '4', '40', '95', '-1', '-1', '-1', '0']], dtype='<U14')"
      ]
     },
     "execution_count": 13,
     "metadata": {},
     "output_type": "execute_result"
    }
   ],
   "source": [
    "tokenizer.detokenize(tokenizer.tokenize(encode_midi_properties(midi_list[0])))[:100]"
   ]
  },
  {
   "cell_type": "code",
   "execution_count": 14,
   "id": "8a3a666b-b22e-40fc-b229-57b73b4905d8",
   "metadata": {},
   "outputs": [
    {
     "data": {
      "text/plain": [
       "True"
      ]
     },
     "execution_count": 14,
     "metadata": {},
     "output_type": "execute_result"
    }
   ],
   "source": [
    "(encode_midi_properties(midi_list[0]) == tokenizer.detokenize(tokenizer.tokenize(encode_midi_properties(midi_list[0])))).all()"
   ]
  },
  {
   "cell_type": "code",
   "execution_count": 15,
   "id": "3b42c5c2",
   "metadata": {},
   "outputs": [
    {
     "name": "stderr",
     "output_type": "stream",
     "text": [
      "100%|█████████████████████████████████████████| 321/321 [01:50<00:00,  2.90it/s]\n"
     ]
    }
   ],
   "source": [
    "\n",
    "rejects = []\n",
    "for midi_file in tqdm(midi_list):\n",
    "    try:\n",
    "        events = tokenizer.tokenize(encode_midi_properties(midi_file))\n",
    "        midi_name = output_folder + midi_file.split('/')[-1].split('.')[0] + '.npy'\n",
    "        np.save(midi_name, events)\n",
    "    except:\n",
    "        rejects.append(midi_file)\n",
    "        \n",
    "tokenizer.save(tokenizer_save_file)"
   ]
  },
  {
   "cell_type": "code",
   "execution_count": 16,
   "id": "ffead476-e645-4cef-aeab-35c60ce884eb",
   "metadata": {},
   "outputs": [
    {
     "data": {
      "text/plain": [
       "98"
      ]
     },
     "execution_count": 16,
     "metadata": {},
     "output_type": "execute_result"
    }
   ],
   "source": [
    "len(rejects)"
   ]
  },
  {
   "cell_type": "code",
   "execution_count": 19,
   "id": "ed180ea5-14c2-4368-8e2f-cc916c690889",
   "metadata": {},
   "outputs": [
    {
     "data": {
      "text/plain": [
       "[<matplotlib.lines.Line2D at 0x17faf34f0>]"
      ]
     },
     "execution_count": 19,
     "metadata": {},
     "output_type": "execute_result"
    },
    {
     "data": {
      "image/png": "[encoded data removed]",
      "text/plain": [
       "<Figure size 640x480 with 1 Axes>"
      ]
     },
     "metadata": {},
     "output_type": "display_data"
    }
   ],
   "source": [
    "import matplotlib.pyplot as plt\n",
    "\n",
    "plt.plot(sorted([int(x) for x in sorted(tokenizer.tokenizers[3].vocab)]))"
   ]
  },
  {
   "cell_type": "code",
   "execution_count": 27,
   "id": "5e1c20db",
   "metadata": {},
   "outputs": [],
   "source": []
  },
  {
   "cell_type": "code",
   "execution_count": 28,
   "id": "a87ac150-58f0-4c1e-9e30-1773b1cd5a27",
   "metadata": {},
   "outputs": [
    {
     "data": {
      "text/plain": [
       "array([[224,   6]])"
      ]
     },
     "execution_count": 28,
     "metadata": {},
     "output_type": "execute_result"
    }
   ],
   "source": [
    "tokenizer.detokenize([[1, 2]])"
   ]
  },
  {
   "cell_type": "code",
   "execution_count": 5,
   "id": "e0812782-68d5-4d09-b42e-97a8eb0a2d66",
   "metadata": {},
   "outputs": [],
   "source": [
    "tokenizer.load(tokenizer_save_file)"
   ]
  },
  {
   "cell_type": "code",
   "execution_count": 12,
   "id": "e1bca5db-eea7-4108-882d-23ae13f21579",
   "metadata": {},
   "outputs": [
    {
     "data": {
      "text/plain": [
       "array([[177,  32]])"
      ]
     },
     "execution_count": 12,
     "metadata": {},
     "output_type": "execute_result"
    }
   ],
   "source": [
    "tokenizer.detokenize([[1, 2]])"
   ]
  },
  {
   "cell_type": "code",
   "execution_count": null,
   "id": "0b920bb6-9762-4053-b02b-2d326a8e90de",
   "metadata": {},
   "outputs": [],
   "source": []
  }
 ],
 "metadata": {
  "kernelspec": {
   "display_name": "midi_venv",
   "language": "python",
   "name": "midi_venv"
  },
  "language_info": {
   "codemirror_mode": {
    "name": "ipython",
    "version": 3
   },
   "file_extension": ".py",
   "mimetype": "text/x-python",
   "name": "python",
   "nbconvert_exporter": "python",
   "pygments_lexer": "ipython3",
   "version": "3.9.10"
  }
 },
 "nbformat": 4,
 "nbformat_minor": 5
}
