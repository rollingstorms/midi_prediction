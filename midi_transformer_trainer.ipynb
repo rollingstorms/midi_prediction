{
 "cells": [
  {
   "cell_type": "code",
   "execution_count": 1,
   "id": "a7c64d27",
   "metadata": {},
   "outputs": [],
   "source": [
    "import os\n",
    "\n",
    "npy_folder = './jazz_midi_npys/'\n",
    "\n",
    "list_of_npys = [file for file in os.listdir(npy_folder) if file.endswith('npy')]\n"
   ]
  },
  {
   "cell_type": "code",
   "execution_count": 2,
   "id": "9514ea11-db75-4879-9b60-2b313ccc2a0e",
   "metadata": {},
   "outputs": [
    {
     "data": {
      "text/plain": [
       "223"
      ]
     },
     "execution_count": 2,
     "metadata": {},
     "output_type": "execute_result"
    }
   ],
   "source": [
    "len(list_of_npys)"
   ]
  },
  {
   "cell_type": "code",
   "execution_count": 3,
   "id": "aa756a37-805b-499a-b590-bd7ee081b934",
   "metadata": {},
   "outputs": [
    {
     "data": {
      "text/plain": [
       "2412366"
      ]
     },
     "execution_count": 3,
     "metadata": {},
     "output_type": "execute_result"
    }
   ],
   "source": [
    "import numpy as np\n",
    "\n",
    "total_sequence_length = 0\n",
    "for file in list_of_npys:\n",
    "    total_sequence_length += np.load(npy_folder + file).shape[0]\n",
    "    \n",
    "total_sequence_length"
   ]
  },
  {
   "cell_type": "code",
   "execution_count": 4,
   "id": "db1f0aa3-b1b2-4a9a-a4b2-5c3e23236046",
   "metadata": {},
   "outputs": [
    {
     "data": {
      "text/plain": [
       "18846.609375"
      ]
     },
     "execution_count": 4,
     "metadata": {},
     "output_type": "execute_result"
    }
   ],
   "source": [
    "total_sequence_length / 128"
   ]
  },
  {
   "cell_type": "code",
   "execution_count": 5,
   "id": "f930fc39",
   "metadata": {},
   "outputs": [],
   "source": [
    "\n",
    "example_npy =  np.load(npy_folder +list_of_npys[0])"
   ]
  },
  {
   "cell_type": "code",
   "execution_count": 6,
   "id": "3d78dc9f",
   "metadata": {},
   "outputs": [
    {
     "data": {
      "text/plain": [
       "array([[  3,   7,   1, ...,   4,   3,   1],\n",
       "       [  1,   7,   1, ...,   5, 122,   1],\n",
       "       [  3,   2,   1, ...,   4,   3,   1],\n",
       "       ...,\n",
       "       [  4,   4,  35, ...,   4,   3,   1],\n",
       "       [  4,   4,  28, ...,   4,   3,   1],\n",
       "       [  4,   2,  19, ...,   4,   3, 223]])"
      ]
     },
     "execution_count": 6,
     "metadata": {},
     "output_type": "execute_result"
    }
   ],
   "source": [
    "example_npy"
   ]
  },
  {
   "cell_type": "code",
   "execution_count": 7,
   "id": "a0f4524a-310b-4ccc-9586-1fc415a916a3",
   "metadata": {},
   "outputs": [
    {
     "data": {
      "text/plain": [
       "'4on6.npy'"
      ]
     },
     "execution_count": 7,
     "metadata": {},
     "output_type": "execute_result"
    }
   ],
   "source": [
    "list_of_npys[0]"
   ]
  },
  {
   "cell_type": "code",
   "execution_count": 8,
   "id": "46e019f7",
   "metadata": {},
   "outputs": [
    {
     "data": {
      "text/plain": [
       "(6506, 8)"
      ]
     },
     "execution_count": 8,
     "metadata": {},
     "output_type": "execute_result"
    }
   ],
   "source": [
    "example_npy.shape"
   ]
  },
  {
   "cell_type": "code",
   "execution_count": 9,
   "id": "b64e3d77-f5bc-449f-aec8-c4bcbca35017",
   "metadata": {},
   "outputs": [],
   "source": [
    "from midi_functions import MidiTokenizer\n",
    "\n",
    "tokenizer = MidiTokenizer(num_features=example_npy.shape[-1])\n",
    "\n",
    "tokenizer_save_file = 'model_states/jazz_tokenizer'\n",
    "\n",
    "tokenizer.load(tokenizer_save_file)"
   ]
  },
  {
   "cell_type": "code",
   "execution_count": 10,
   "id": "fb0cb36a-53d6-469d-8282-4b22823edd48",
   "metadata": {},
   "outputs": [],
   "source": [
    "from midi_functions import *\n",
    "\n",
    "example_midi = decode_midi_properties(tokenizer.detokenize(example_npy))\n",
    "example_midi.save('example_midi.mid')"
   ]
  },
  {
   "cell_type": "code",
   "execution_count": 371,
   "id": "834d1abc-fb75-48ef-8af8-6d93d0782e59",
   "metadata": {},
   "outputs": [],
   "source": [
    "# quick_listen_to_midi('example_midi.mid', 'soundfonts/donkey_kong_country_soundfont_collection/Donkey Kong Country 2012.sf2', 'test_output')"
   ]
  },
  {
   "cell_type": "code",
   "execution_count": 12,
   "id": "aa84ee3b-bb89-4395-a561-de6332101646",
   "metadata": {},
   "outputs": [],
   "source": [
    "vocab_sizes = [int(len(channel_tokenizer.vocab))+1 for channel_tokenizer in tokenizer.tokenizers]"
   ]
  },
  {
   "cell_type": "code",
   "execution_count": 13,
   "id": "17e7ec61-5a4c-4911-ae82-74f71ec422b7",
   "metadata": {},
   "outputs": [
    {
     "data": {
      "text/plain": [
       "[8, 17, 104, 130, 2379, 41, 130, 488]"
      ]
     },
     "execution_count": 13,
     "metadata": {},
     "output_type": "execute_result"
    }
   ],
   "source": [
    "vocab_sizes"
   ]
  },
  {
   "cell_type": "code",
   "execution_count": 14,
   "id": "427a4bfb-5887-4923-a191-5f2985fa3a28",
   "metadata": {},
   "outputs": [],
   "source": [
    "for file in list_of_npys:\n",
    "    example_npy =  np.load(npy_folder + file)\n",
    "    if (example_npy.T.max(axis=1) > vocab_sizes).any():\n",
    "        print(example_npy.T.max(axis=1))"
   ]
  },
  {
   "cell_type": "code",
   "execution_count": 15,
   "id": "7801ab10",
   "metadata": {},
   "outputs": [],
   "source": [
    "import os\n",
    "import numpy as np\n",
    "import torch\n",
    "from torch.utils.data import Dataset\n",
    "import random\n",
    "\n",
    "class MidiDataset(Dataset):\n",
    "    def __init__(self, data_dir, max_seq_length, prediction_length, eos_token, file_list=None):\n",
    "        self.data_dir = data_dir\n",
    "        self.max_seq_length = max_seq_length\n",
    "        self.prediction_length = prediction_length\n",
    "        self.eos_token = eos_token\n",
    "        if file_list == None:\n",
    "            self.file_list = [file for file in os.listdir(data_dir) if file.endswith('.npy')]\n",
    "        else:\n",
    "            self.file_list = file_list\n",
    "\n",
    "    def __len__(self):\n",
    "        return len(self.file_list) * 300\n",
    "\n",
    "    def __getitem__(self, index):\n",
    "        \n",
    "        npy_file = os.path.join(self.data_dir, self.file_list[index % 10])\n",
    "        midi_data = np.load(npy_file, allow_pickle=True)\n",
    "        \n",
    "        start_index = np.random.randint(0, midi_data.shape[0])\n",
    "\n",
    "        input_data = midi_data[start_index : start_index + self.max_seq_length]\n",
    "        input_data = np.pad(input_data, ((0, self.max_seq_length - input_data.shape[0]), (0, 0)), 'constant', constant_values=0)\n",
    "        input_data = torch.tensor(input_data, dtype=torch.float32)\n",
    "        \n",
    "        target_data = midi_data[start_index + self.prediction_length : start_index + self.max_seq_length + self.prediction_length]\n",
    "        target_data = np.pad(target_data, ((0, self.max_seq_length - target_data.shape[0]), (0, 0)), 'constant', constant_values=0)\n",
    "        target_data = torch.tensor(target_data, dtype=torch.float32)\n",
    "        \n",
    "        return torch.tensor(input_data, dtype=torch.float32), torch.tensor(target_data, dtype=torch.float32)\n"
   ]
  },
  {
   "cell_type": "markdown",
   "id": "7aac1f64",
   "metadata": {},
   "source": [
    "changed prediction_length from 20 to 1 and max_seq_length from 512 to 128"
   ]
  },
  {
   "cell_type": "code",
   "execution_count": 16,
   "id": "f1b3cb0c",
   "metadata": {},
   "outputs": [],
   "source": [
    "max_seq_length = 128\n",
    "prediction_length = 1\n",
    "eos_token = -1  # or any other value that represents EOS in your data\n",
    "\n",
    "\n",
    "train_dataset = MidiDataset(npy_folder, max_seq_length, prediction_length, eos_token)\n",
    "val_dataset = MidiDataset(npy_folder, max_seq_length, prediction_length, eos_token, list_of_npys[:1000])"
   ]
  },
  {
   "cell_type": "code",
   "execution_count": 17,
   "id": "90f9506c",
   "metadata": {},
   "outputs": [
    {
     "name": "stderr",
     "output_type": "stream",
     "text": [
      "/var/folders/jy/34vkbxz97tbgm78bc07fmx380000gn/T/ipykernel_44372/803665718.py:36: UserWarning: To copy construct from a tensor, it is recommended to use sourceTensor.clone().detach() or sourceTensor.clone().detach().requires_grad_(True), rather than torch.tensor(sourceTensor).\n",
      "  return torch.tensor(input_data, dtype=torch.float32), torch.tensor(target_data, dtype=torch.float32)\n"
     ]
    },
    {
     "data": {
      "text/plain": [
       "torch.Size([128, 8])"
      ]
     },
     "execution_count": 17,
     "metadata": {},
     "output_type": "execute_result"
    }
   ],
   "source": [
    "# model input\n",
    "train_dataset[0][0].shape"
   ]
  },
  {
   "cell_type": "code",
   "execution_count": 18,
   "id": "7b8e535d",
   "metadata": {},
   "outputs": [
    {
     "name": "stderr",
     "output_type": "stream",
     "text": [
      "/var/folders/jy/34vkbxz97tbgm78bc07fmx380000gn/T/ipykernel_44372/803665718.py:36: UserWarning: To copy construct from a tensor, it is recommended to use sourceTensor.clone().detach() or sourceTensor.clone().detach().requires_grad_(True), rather than torch.tensor(sourceTensor).\n",
      "  return torch.tensor(input_data, dtype=torch.float32), torch.tensor(target_data, dtype=torch.float32)\n"
     ]
    },
    {
     "data": {
      "text/plain": [
       "torch.Size([128, 8])"
      ]
     },
     "execution_count": 18,
     "metadata": {},
     "output_type": "execute_result"
    }
   ],
   "source": [
    "# model output\n",
    "train_dataset[0][1].shape"
   ]
  },
  {
   "cell_type": "code",
   "execution_count": 19,
   "id": "eca055d6-35ee-4679-9d4a-b4b905973cc6",
   "metadata": {},
   "outputs": [
    {
     "name": "stderr",
     "output_type": "stream",
     "text": [
      "/var/folders/jy/34vkbxz97tbgm78bc07fmx380000gn/T/ipykernel_44372/803665718.py:36: UserWarning: To copy construct from a tensor, it is recommended to use sourceTensor.clone().detach() or sourceTensor.clone().detach().requires_grad_(True), rather than torch.tensor(sourceTensor).\n",
      "  return torch.tensor(input_data, dtype=torch.float32), torch.tensor(target_data, dtype=torch.float32)\n"
     ]
    },
    {
     "data": {
      "text/plain": [
       "tensor([[ 4.,  4., 43., 22.,  1.,  4.,  3.,  1.],\n",
       "        [ 4.,  2., 52.,  6.,  1.,  4.,  3., 21.],\n",
       "        [ 4.,  2., 18., 11.,  1.,  4.,  3., 22.],\n",
       "        [ 4.,  7., 40.,  5.,  1.,  4.,  3., 22.],\n",
       "        [ 4.,  4., 43.,  6.,  1.,  4.,  3., 58.],\n",
       "        [ 4.,  7., 40.,  6.,  1.,  4.,  3., 22.],\n",
       "        [ 4.,  4.,  2.,  6.,  1.,  4.,  3., 58.],\n",
       "        [ 4.,  4., 12.,  6.,  1.,  4.,  3., 22.],\n",
       "        [ 4.,  4., 42., 41.,  1.,  4.,  3.,  1.],\n",
       "        [ 4.,  4., 42.,  6.,  1.,  4.,  3., 58.]])"
      ]
     },
     "execution_count": 19,
     "metadata": {},
     "output_type": "execute_result"
    }
   ],
   "source": [
    "train_dataset[0][0][:10]"
   ]
  },
  {
   "cell_type": "code",
   "execution_count": 20,
   "id": "fff3a348-3bb7-4ad5-bdcb-1250e6f7f097",
   "metadata": {},
   "outputs": [
    {
     "name": "stderr",
     "output_type": "stream",
     "text": [
      "/var/folders/jy/34vkbxz97tbgm78bc07fmx380000gn/T/ipykernel_44372/803665718.py:36: UserWarning: To copy construct from a tensor, it is recommended to use sourceTensor.clone().detach() or sourceTensor.clone().detach().requires_grad_(True), rather than torch.tensor(sourceTensor).\n",
      "  return torch.tensor(input_data, dtype=torch.float32), torch.tensor(target_data, dtype=torch.float32)\n"
     ]
    },
    {
     "data": {
      "text/plain": [
       "[tensor([[ 4.,  4., 42.,  6.,  1.,  4.,  3.,  1.],\n",
       "         [ 4.,  4.,  8., 52.,  1.,  4.,  3.,  1.],\n",
       "         [ 4.,  7., 40.,  6.,  1.,  4.,  3., 21.],\n",
       "         [ 4.,  7., 19.,  6.,  1.,  4.,  3.,  1.],\n",
       "         [ 4.,  7., 18.,  6.,  1.,  4.,  3.,  1.],\n",
       "         [ 4.,  7., 30.,  6.,  1.,  4.,  3.,  1.],\n",
       "         [ 4.,  4., 10., 55.,  1.,  4.,  3.,  1.],\n",
       "         [ 4.,  4.,  8.,  6.,  1.,  4.,  3., 14.],\n",
       "         [ 4.,  2., 31.,  6.,  1.,  4.,  3.,  1.],\n",
       "         [ 4.,  4.,  2.,  6.,  1.,  4.,  3.,  1.]]),\n",
       " tensor([[ 4.,  4.,  8., 52.,  1.,  4.,  3.,  1.],\n",
       "         [ 4.,  7., 40.,  6.,  1.,  4.,  3., 21.],\n",
       "         [ 4.,  7., 19.,  6.,  1.,  4.,  3.,  1.],\n",
       "         [ 4.,  7., 18.,  6.,  1.,  4.,  3.,  1.],\n",
       "         [ 4.,  7., 30.,  6.,  1.,  4.,  3.,  1.],\n",
       "         [ 4.,  4., 10., 55.,  1.,  4.,  3.,  1.],\n",
       "         [ 4.,  4.,  8.,  6.,  1.,  4.,  3., 14.],\n",
       "         [ 4.,  2., 31.,  6.,  1.,  4.,  3.,  1.],\n",
       "         [ 4.,  4.,  2.,  6.,  1.,  4.,  3.,  1.],\n",
       "         [ 4.,  4., 10.,  6.,  1.,  4.,  3., 10.]])]"
      ]
     },
     "execution_count": 20,
     "metadata": {},
     "output_type": "execute_result"
    }
   ],
   "source": [
    "[x[:10] for x in train_dataset[0]]"
   ]
  },
  {
   "cell_type": "code",
   "execution_count": 281,
   "id": "5742f477",
   "metadata": {},
   "outputs": [],
   "source": [
    "import torch\n",
    "import torch.nn as nn\n",
    "\n",
    "import torch\n",
    "import torch.nn as nn\n",
    "\n",
    "class CustomEmbedding(nn.Module):\n",
    "    def __init__(self, num_embeddings, embedding_dim, padding_idx):\n",
    "        super(CustomEmbedding, self).__init__()\n",
    "        self.embedding_dim = embedding_dim\n",
    "        self.num_embeddings = num_embeddings\n",
    "        self.padding_idx = padding_idx\n",
    "        self.dense = nn.Linear(num_embeddings, embedding_dim, bias=False)\n",
    "        \n",
    "    def forward(self, x):\n",
    "        # The input `x` should be index-encoded with shape [*, 1]\n",
    "        x = x.squeeze(-1)\n",
    "        x_one_hot = torch.nn.functional.one_hot(x, num_classes=self.num_embeddings).float()\n",
    "\n",
    "        x = self.dense(x_one_hot)\n",
    "\n",
    "        # Zero out the embeddings where the input was the padding index\n",
    "        padding_mask = (x == self.padding_idx)\n",
    "        x[padding_mask] = 0\n",
    "\n",
    "        return x\n",
    "    \n",
    "    \n",
    "class MidiTransformer(nn.Module):\n",
    "    def __init__(self, input_dim, embed_dim, num_heads, num_layers, max_seq_length, vocab_sizes, batch_size, dropout=0.1):\n",
    "        super(MidiTransformer, self).__init__()\n",
    "                \n",
    "        self.input_dim = input_dim\n",
    "        self.batch_size = batch_size\n",
    "        self.max_seq_length = max_seq_length\n",
    "        self.embeddings = [nn.Embedding(num_embeddings=vocab_size, embedding_dim=embed_dim, padding_idx=0) for vocab_size in vocab_sizes]\n",
    "        # self.embeddings = [CustomEmbedding(num_embeddings=vocab_size, embedding_dim=embed_dim, padding_idx=0) for vocab_size in vocab_sizes]\n",
    "        self.positional_encoding = self.create_positional_encoding(max_seq_length, embed_dim * input_dim)\n",
    "\n",
    "        self.transformer = nn.Transformer(\n",
    "            d_model=embed_dim*input_dim,\n",
    "            nhead=num_heads,\n",
    "            num_encoder_layers=num_layers,\n",
    "            num_decoder_layers=num_layers,\n",
    "            dropout=dropout\n",
    "        )\n",
    "        \n",
    "        self.output_layers = [nn.Linear(embed_dim*input_dim, vocab_size) for vocab_size in vocab_sizes]\n",
    "\n",
    "    @staticmethod\n",
    "    def create_positional_encoding(max_seq_length, embed_dim):\n",
    "        position = torch.arange(0, max_seq_length, dtype=torch.float).unsqueeze(1)\n",
    "        div_term = torch.exp(torch.arange(0, embed_dim, 2).float() * (-np.log(10000.0) / embed_dim))\n",
    "        positional_encoding = torch.zeros(max_seq_length, embed_dim)\n",
    "        positional_encoding[:, 0::2] = torch.sin(position * div_term)\n",
    "        positional_encoding[:, 1::2] = torch.cos(position * div_term)\n",
    "        positional_encoding = positional_encoding.unsqueeze(0).transpose(0, 1)\n",
    "        return nn.Parameter(positional_encoding, requires_grad=False)\n",
    "\n",
    "    def forward(self, x):\n",
    "        \n",
    "        #split the input matrix into 4 columns for each feature.\n",
    "        x_parts = torch.split(x.long(), split_size_or_sections=1, dim=-1)\n",
    "\n",
    "        x = torch.cat([embedding_layer(x_n.squeeze(-1)) for x_n, embedding_layer in zip(x_parts, self.embeddings)], dim=-1)\n",
    "\n",
    "        # add_positional_encoding\n",
    "        ˇ\n",
    "\n",
    "        # Permute the dimensions to (sequence_length, batch_size, input_dim)\n",
    "        x = x.permute(1, 0, 2)\n",
    "        x = self.transformer(x,x)\n",
    "        # Permute the dimensions back to (batch_size, sequence_length, embedding_dim)\n",
    "        x = x.permute(1, 0, 2)\n",
    "\n",
    "        output_layers = [output_layer(x.squeeze(-1)) for output_layer in self.output_layers]\n",
    "        \n",
    "        return output_layers"
   ]
  },
  {
   "cell_type": "markdown",
   "id": "e0385a24",
   "metadata": {},
   "source": [
    "input_dim = 4\n",
    "embed_dim = 64\n",
    "num_heads = 4\n",
    "num_layers = 2\n",
    "max_seq_length = 512\n",
    "dropout = 0.1"
   ]
  },
  {
   "cell_type": "code",
   "execution_count": 282,
   "id": "4a4791fd",
   "metadata": {},
   "outputs": [],
   "source": [
    "input_dim = len(vocab_sizes)\n",
    "embed_dim = 8\n",
    "num_heads = 4\n",
    "num_layers = 4\n",
    "dropout = 0.1\n",
    "batch_size = 64\n",
    "\n",
    "model = MidiTransformer(input_dim=input_dim,\n",
    "                        embed_dim=embed_dim,\n",
    "                        num_heads=num_heads,\n",
    "                        num_layers=num_layers,\n",
    "                        max_seq_length=max_seq_length,\n",
    "                        vocab_sizes=vocab_sizes,\n",
    "                        batch_size=batch_size,\n",
    "                        dropout=dropout)"
   ]
  },
  {
   "cell_type": "code",
   "execution_count": 283,
   "id": "224579cf-1ee3-4863-b367-3377083ce179",
   "metadata": {},
   "outputs": [
    {
     "name": "stderr",
     "output_type": "stream",
     "text": [
      "/var/folders/jy/34vkbxz97tbgm78bc07fmx380000gn/T/ipykernel_44372/803665718.py:36: UserWarning: To copy construct from a tensor, it is recommended to use sourceTensor.clone().detach() or sourceTensor.clone().detach().requires_grad_(True), rather than torch.tensor(sourceTensor).\n",
      "  return torch.tensor(input_data, dtype=torch.float32), torch.tensor(target_data, dtype=torch.float32)\n"
     ]
    },
    {
     "data": {
      "text/plain": [
       "torch.Size([128, 8])"
      ]
     },
     "execution_count": 283,
     "metadata": {},
     "output_type": "execute_result"
    }
   ],
   "source": [
    "model(train_dataset[0][0].unsqueeze(0))[0].view(-1, vocab_sizes[0]).shape"
   ]
  },
  {
   "cell_type": "code",
   "execution_count": 284,
   "id": "914513e9",
   "metadata": {},
   "outputs": [
    {
     "data": {
      "text/plain": [
       "<All keys matched successfully>"
      ]
     },
     "execution_count": 284,
     "metadata": {},
     "output_type": "execute_result"
    }
   ],
   "source": [
    "saved_model = 'model_states/jazz_midi_transformer_1684981885.pth'\n",
    "model.load_state_dict(torch.load(saved_model))"
   ]
  },
  {
   "cell_type": "code",
   "execution_count": 285,
   "id": "c6d41461-ff4b-4cc7-9470-b9117dc6d3c2",
   "metadata": {},
   "outputs": [],
   "source": [
    "# model(train_dataset[0][0].unsqueeze(0))"
   ]
  },
  {
   "cell_type": "code",
   "execution_count": 286,
   "id": "f84347e4-639b-4cbf-a71f-8dbc1404ec39",
   "metadata": {},
   "outputs": [],
   "source": [
    "# embeddings = [nn.Embedding(num_embeddings=vocab_size, embedding_dim=embed_dim, padding_idx=0) for vocab_size in vocab_sizes]\n",
    "\n",
    "# for data, _ in train_dataset:\n",
    "    \n",
    "#     #split the input matrix into 4 columns for each feature.\n",
    "#     x_parts = torch.split(data.unsqueeze(0), split_size_or_sections=1, dim=-1)\n",
    "\n",
    "#     # create an embedding for each feature with a unique embedding layer\n",
    "#     embed_layers = []\n",
    "#     for i, (x_n, embedding_layer) in enumerate(zip(x_parts, embeddings)):\n",
    "#         embed_layers.append(embedding_layer(x_n.squeeze(-1).long()))\n",
    "\n"
   ]
  },
  {
   "cell_type": "code",
   "execution_count": 287,
   "id": "4e48c7ed-1ebb-49c0-9ffe-3b19f5949ead",
   "metadata": {},
   "outputs": [
    {
     "name": "stderr",
     "output_type": "stream",
     "text": [
      "/var/folders/jy/34vkbxz97tbgm78bc07fmx380000gn/T/ipykernel_44372/803665718.py:36: UserWarning: To copy construct from a tensor, it is recommended to use sourceTensor.clone().detach() or sourceTensor.clone().detach().requires_grad_(True), rather than torch.tensor(sourceTensor).\n",
      "  return torch.tensor(input_data, dtype=torch.float32), torch.tensor(target_data, dtype=torch.float32)\n"
     ]
    },
    {
     "data": {
      "text/plain": [
       "[tensor([4, 4, 4, 4, 4, 4, 4, 4, 4, 4, 4, 4, 4, 4, 4, 4, 4, 4, 4, 4, 4, 4, 4, 4,\n",
       "         4, 4, 4, 4, 4, 4, 4, 4, 4, 4, 4, 4, 4, 4, 4, 4, 4, 4, 4, 4, 4, 4, 4, 4,\n",
       "         4, 4, 4, 4, 4, 4, 4, 4, 4, 4, 4, 4, 4, 4, 4, 4, 4, 4, 4, 4, 4, 4, 4, 4,\n",
       "         4, 4, 4, 4, 4, 4, 4, 4, 4, 4, 4, 4, 4, 4, 4, 4, 4, 4, 4, 4, 4, 4, 4, 4,\n",
       "         4, 4, 4, 4, 4, 4, 4, 4, 4, 4, 4, 4, 4, 4, 4, 4, 4, 4, 4, 4, 4, 4, 4, 4,\n",
       "         4, 4, 4, 4, 4, 4, 4, 4]),\n",
       " tensor([2, 4, 7, 7, 2, 4, 7, 7, 4, 4, 4, 4, 2, 2, 7, 4, 7, 4, 4, 4, 2, 2, 4, 7,\n",
       "         7, 4, 7, 7, 4, 4, 7, 4, 4, 7, 2, 2, 4, 4, 7, 4, 4, 7, 2, 7, 7, 2, 7, 7,\n",
       "         2, 2, 7, 7, 2, 2, 7, 7, 7, 7, 2, 7, 2, 4, 4, 7, 2, 7, 7, 2, 7, 7, 4, 4,\n",
       "         7, 7, 2, 7, 4, 2, 4, 4, 4, 4, 4, 4, 7, 4, 4, 4, 2, 7, 7, 4, 2, 7, 7, 4,\n",
       "         4, 4, 4, 4, 4, 2, 2, 7, 7, 4, 4, 4, 2, 7, 7, 2, 7, 7, 4, 4, 4, 4, 2, 7,\n",
       "         2, 4, 4, 4, 4, 7, 4, 4]),\n",
       " tensor([18,  2, 40, 46, 55, 12, 46, 40,  2, 12, 12,  2, 19, 18, 40, 53, 40, 22,\n",
       "         53, 22, 47, 19, 22, 52, 40,  6, 40, 52, 22, 40, 40, 40,  9, 40, 47, 55,\n",
       "          6, 29, 40, 29, 10, 40, 18, 40, 46, 55, 46, 40, 19, 18, 40, 40, 47, 19,\n",
       "         52, 40, 52, 40, 55, 40, 47, 10,  9, 40, 18, 40, 46, 55, 46, 40,  2, 12,\n",
       "         40, 40, 19, 40, 32, 18, 32, 12,  2, 12, 12, 10, 40, 10, 35, 35, 47, 52,\n",
       "         40, 26, 19, 52, 40, 10, 26, 10, 32, 32, 33, 55, 47, 40, 40, 33,  6, 32,\n",
       "         18, 40, 46, 55, 46, 40,  6, 40, 32, 40, 19, 40, 18, 10, 32, 32, 26, 40,\n",
       "         10, 26]),\n",
       " tensor([ 11,   6,   5,   5,   6,   6,   6,   6,  20,  86,   6,   6,  83,   6,\n",
       "           5,  44,   6,  13,   6,   6,  14,   6,  20,  18,  18,   9,   6,   6,\n",
       "           6,  61,   5,   6,  77,   6,   6,  11,   6, 126,   5,   6, 126,   6,\n",
       "          83,   5,   5,   6,   6,   6,  11,   6,   5,   6,  14,   6,  18,   5,\n",
       "           6,   6,   3,   5,   6,   6,   6,   6,  83,   5,   5,   6,   6,   6,\n",
       "          26,  48,   5,   6,  11,   5, 125,   6,   6, 109,   6,   6,   6, 122,\n",
       "           6,   6,  51,   6,  83,  18,   5,  14,   6,   6,   6,  80,   6,   6,\n",
       "          82,   6,  19,  11,   6,   5,   6,   6,  76,  58,  14,   5,   5,   6,\n",
       "           6,   6,   6, 117,   6,   6,  11,   5,   6,  58,  69,   6,  69,   6,\n",
       "           6,   6]),\n",
       " tensor([1, 1, 1, 1, 1, 1, 1, 1, 1, 1, 1, 1, 1, 1, 1, 1, 1, 1, 1, 1, 1, 1, 1, 1,\n",
       "         1, 1, 1, 1, 1, 1, 1, 1, 1, 1, 1, 1, 1, 1, 1, 1, 1, 1, 1, 1, 1, 1, 1, 1,\n",
       "         1, 1, 1, 1, 1, 1, 1, 1, 1, 1, 1, 1, 1, 1, 1, 1, 1, 1, 1, 1, 1, 1, 1, 1,\n",
       "         1, 1, 1, 1, 1, 1, 1, 1, 1, 1, 1, 1, 1, 1, 1, 1, 1, 1, 1, 1, 1, 1, 1, 1,\n",
       "         1, 1, 1, 1, 1, 1, 1, 1, 1, 1, 1, 1, 1, 1, 1, 1, 1, 1, 1, 1, 1, 1, 1, 1,\n",
       "         1, 1, 1, 1, 1, 1, 1, 1]),\n",
       " tensor([4, 4, 4, 4, 4, 4, 4, 4, 4, 4, 4, 4, 4, 4, 4, 4, 4, 4, 4, 4, 4, 4, 4, 4,\n",
       "         4, 4, 4, 4, 4, 4, 4, 4, 4, 4, 4, 4, 4, 4, 4, 4, 4, 4, 4, 4, 4, 4, 4, 4,\n",
       "         4, 4, 4, 4, 4, 4, 4, 4, 4, 4, 4, 4, 4, 4, 4, 4, 4, 4, 4, 4, 4, 4, 4, 4,\n",
       "         4, 4, 4, 4, 4, 4, 4, 4, 4, 4, 4, 4, 4, 4, 4, 4, 4, 4, 4, 4, 4, 4, 4, 4,\n",
       "         4, 4, 4, 4, 4, 4, 4, 4, 4, 4, 4, 4, 4, 4, 4, 4, 4, 4, 4, 4, 4, 4, 4, 4,\n",
       "         4, 4, 4, 4, 4, 4, 4, 4]),\n",
       " tensor([3, 3, 3, 3, 3, 3, 3, 3, 3, 3, 3, 3, 3, 3, 3, 3, 3, 3, 3, 3, 3, 3, 3, 3,\n",
       "         3, 3, 3, 3, 3, 3, 3, 3, 3, 3, 3, 3, 3, 3, 3, 3, 3, 3, 3, 3, 3, 3, 3, 3,\n",
       "         3, 3, 3, 3, 3, 3, 3, 3, 3, 3, 3, 3, 3, 3, 3, 3, 3, 3, 3, 3, 3, 3, 3, 3,\n",
       "         3, 3, 3, 3, 3, 3, 3, 3, 3, 3, 3, 3, 3, 3, 3, 3, 3, 3, 3, 3, 3, 3, 3, 3,\n",
       "         3, 3, 3, 3, 3, 3, 3, 3, 3, 3, 3, 3, 3, 3, 3, 3, 3, 3, 3, 3, 3, 3, 3, 3,\n",
       "         3, 3, 3, 3, 3, 3, 3, 3]),\n",
       " tensor([16, 22, 22,  1, 22, 22, 13,  1,  7, 11, 46,  1, 26, 22, 22, 10, 21, 22,\n",
       "         11,  7, 29, 22,  1, 22,  1, 10, 22,  1, 78,  1, 18, 21,  1, 25,  1,  1,\n",
       "          1,  1, 11, 11,  1, 11, 96, 21,  1,  1, 30,  1, 37, 22, 12, 30, 61,  1,\n",
       "         22,  1, 25, 21, 32, 12,  1, 22, 21, 18, 61, 11,  1,  1,  8,  1, 77, 12,\n",
       "         18, 10, 58, 22,  1,  1, 22,  1, 12, 11,  1,  1, 12, 18, 49, 58, 59,  1,\n",
       "          1, 21, 21, 22,  1, 31,  8, 12, 13, 18,  1, 49, 22, 21, 13, 55, 14, 22,\n",
       "         13, 21,  1,  1, 30,  1, 11,  1, 25,  4,  7, 22, 22, 21, 21,  1,  1, 18,\n",
       "         14, 11])]"
      ]
     },
     "execution_count": 287,
     "metadata": {},
     "output_type": "execute_result"
    }
   ],
   "source": [
    "[target.squeeze(-1).long() for target in torch.split(train_dataset[0][1], split_size_or_sections=1, dim=-1)]"
   ]
  },
  {
   "cell_type": "code",
   "execution_count": 288,
   "id": "1d4acfe8",
   "metadata": {},
   "outputs": [],
   "source": [
    "import torch.optim as optim\n",
    "import time\n",
    "\n",
    "def train(model, train_loader, val_loader, epochs):\n",
    "    # device = torch.device('mps' if torch.backends.mps.is_available() else 'cpu')\n",
    "    device = torch.device('cpu')\n",
    "    model = model.to(device, non_blocking=False)\n",
    "\n",
    "    criterion = nn.CrossEntropyLoss()\n",
    "    optimizer = optim.Adam(model.parameters(), lr=0.001)\n",
    "    \n",
    "    loss_history = []\n",
    "    all_time = time.time()\n",
    "    epoch_time = time.time()\n",
    "    last_time = epoch_time\n",
    "    \n",
    "    for epoch in range(epochs):\n",
    "        running_loss = []\n",
    "        for i, data in enumerate(train_loader, 0):\n",
    "            inputs, targets = data\n",
    "            inputs, targets = inputs.to(device), targets.to(device)\n",
    "\n",
    "            optimizer.zero_grad()\n",
    "            \n",
    "            outputs = model(inputs)\n",
    "\n",
    "             # Reshape the outputs and targets for loss calculation\n",
    "            outputs = [output.view(-1, output.shape[-1]) for output in outputs]  # shape becomes (batch_size*seq*num_features, max_vocab_size)\n",
    "            targets = [target.view(-1).long() for target in torch.split(targets, split_size_or_sections=1, dim=-1)] # shape becomes (batch_size*seq*num_features)\n",
    "            \n",
    "            loss = sum([criterion(output, target) for output, target in zip(outputs, targets)]) / len(outputs)\n",
    "            loss.backward()\n",
    "            optimizer.step()\n",
    "\n",
    "            running_loss.append(loss.item())\n",
    "            \n",
    "            time_left = ((time.time() - last_time) / 60) * (len(train_loader) - i)\n",
    "            last_time = time.time()\n",
    "            time_string = '{:.2f}'.format(time_left) + ' min.'\n",
    "            progress_bar(i+1, len(train_loader), prefix=f'Epoch {epoch + 1}: Loss: {np.mean(running_loss):.4f}, -{time_string}')\n",
    "            if len(running_loss) > 10:\n",
    "                running_loss.pop()\n",
    "                \n",
    "            loss_history.append({'type':'running', 'loss':running_loss})\n",
    "            \n",
    "            \n",
    "            \n",
    "        # Calculate the validation loss after each epoch\n",
    "        val_loss = validate(model, val_loader, criterion, device)\n",
    "        loss_history.append({'type':'validation', 'loss':val_loss})\n",
    "        # Print the average loss for this epoch\n",
    "        print('\\n')\n",
    "        print(f\"Epoch {epoch + 1}/{epochs}, Validation Loss: {val_loss:.4f}\")\n",
    "        time_elapsed = (time.time() - epoch_time) / 60\n",
    "        print('Time Elapsed: ' + '{:.2f}'.format(time_elapsed) + ' min.')\n",
    "        total_time_elapsed = (time.time() - all_time) / 60\n",
    "        print('Total Time Elapsed: ' + '{:.2f}'.format(total_time_elapsed) + ' min.')\n",
    "        epoch_time = time.time()\n",
    "        print('\\n')\n",
    "\n",
    "\n",
    "    print(\"Training completed.\")\n",
    "    return loss_history\n",
    "    \n",
    "def validate(model, val_loader, criterion, device):\n",
    "    model.eval()\n",
    "    running_loss = 0.0\n",
    "    with torch.no_grad():\n",
    "        for inputs, targets in val_loader:\n",
    "            inputs, targets = inputs.to(device), targets.to(device)\n",
    "            \n",
    "            outputs = model(inputs)\n",
    "            \n",
    "            outputs = [output.view(-1, output.shape[-1]) for output in outputs]  # shape becomes (batch_size*seq*num_features, max_vocab_size)\n",
    "            targets = [target.view(-1).long() for target in torch.split(targets, split_size_or_sections=1, dim=-1)] # shape becomes (batch_size*seq*num_features)\n",
    "            \n",
    "            loss = sum([criterion(output, target) for output, target in zip(outputs, targets)]) / len(outputs)\n",
    "            \n",
    "            running_loss += loss.item()\n",
    "\n",
    "    return running_loss / len(val_loader)"
   ]
  },
  {
   "cell_type": "code",
   "execution_count": 289,
   "id": "d9008420",
   "metadata": {},
   "outputs": [],
   "source": [
    "def progress_bar(i, total, print_length=40, prefix=''):\n",
    "    progress_ratio = i / total\n",
    "    progress_length = int(progress_ratio * print_length)\n",
    "    progress_string = prefix + ' <' + '=' * progress_length + '-' * (print_length - progress_length) + '> ' + \"{:.2f}\".format(progress_ratio * 100) +'%'\n",
    "    print(progress_string, end='\\r')"
   ]
  },
  {
   "cell_type": "code",
   "execution_count": 320,
   "id": "ed35aa00",
   "metadata": {
    "scrolled": true,
    "tags": []
   },
   "outputs": [
    {
     "name": "stderr",
     "output_type": "stream",
     "text": [
      "/var/folders/jy/34vkbxz97tbgm78bc07fmx380000gn/T/ipykernel_44372/803665718.py:36: UserWarning: To copy construct from a tensor, it is recommended to use sourceTensor.clone().detach() or sourceTensor.clone().detach().requires_grad_(True), rather than torch.tensor(sourceTensor).\n",
      "  return torch.tensor(input_data, dtype=torch.float32), torch.tensor(target_data, dtype=torch.float32)\n"
     ]
    },
    {
     "name": "stdout",
     "output_type": "stream",
     "text": [
      "Epoch 1: Loss: 3.0155, -0.01 min. <========================================> 100.00%\n",
      "\n",
      "Epoch 1/10, Validation Loss: 2.0619\n",
      "Time Elapsed: 34.59 min.\n",
      "Total Time Elapsed: 34.59 min.\n",
      "\n",
      "\n",
      "Epoch 2: Loss: 1.9944, -0.00 min. <========================================> 100.00%%\n",
      "\n",
      "Epoch 2/10, Validation Loss: 1.4663\n",
      "Time Elapsed: 16.47 min.\n",
      "Total Time Elapsed: 51.06 min.\n",
      "\n",
      "\n",
      "Epoch 3: Loss: 1.4267, -0.00 min. <========================================> 100.00%%\n",
      "\n",
      "Epoch 3/10, Validation Loss: 1.1813\n",
      "Time Elapsed: 16.60 min.\n",
      "Total Time Elapsed: 67.66 min.\n",
      "\n",
      "\n",
      "Epoch 4: Loss: 1.1894, -0.00 min. <========================================> 100.00%%\n",
      "\n",
      "Epoch 4/10, Validation Loss: 1.0146\n",
      "Time Elapsed: 16.43 min.\n",
      "Total Time Elapsed: 84.09 min.\n",
      "\n",
      "\n",
      "Epoch 5: Loss: 1.0079, -0.00 min. <========================================> 100.00%%\n",
      "\n",
      "Epoch 5/10, Validation Loss: 0.9021\n",
      "Time Elapsed: 16.47 min.\n",
      "Total Time Elapsed: 100.56 min.\n",
      "\n",
      "\n",
      "Epoch 6: Loss: 0.9046, -0.00 min. <========================================> 100.00%%\n",
      "\n",
      "Epoch 6/10, Validation Loss: 0.8328\n",
      "Time Elapsed: 16.50 min.\n",
      "Total Time Elapsed: 117.07 min.\n",
      "\n",
      "\n",
      "Epoch 7: Loss: 0.8282, -0.00 min. <========================================> 100.00%%\n",
      "\n",
      "Epoch 7/10, Validation Loss: 0.7755\n",
      "Time Elapsed: 16.57 min.\n",
      "Total Time Elapsed: 133.64 min.\n",
      "\n",
      "\n",
      "Epoch 8: Loss: 0.7634, -0.00 min. <========================================> 100.00%%\n",
      "\n",
      "Epoch 8/10, Validation Loss: 0.7329\n",
      "Time Elapsed: 16.40 min.\n",
      "Total Time Elapsed: 150.04 min.\n",
      "\n",
      "\n",
      "Epoch 9: Loss: 0.7388, -0.00 min. <========================================> 100.00%%\n",
      "\n",
      "Epoch 9/10, Validation Loss: 0.7479\n",
      "Time Elapsed: 16.40 min.\n",
      "Total Time Elapsed: 166.44 min.\n",
      "\n",
      "\n",
      "Epoch 10: Loss: 0.7555, -0.00 min. <========================================> 100.00%%\n",
      "\n",
      "Epoch 10/10, Validation Loss: 0.6754\n",
      "Time Elapsed: 16.46 min.\n",
      "Total Time Elapsed: 182.90 min.\n",
      "\n",
      "\n",
      "Training completed.\n"
     ]
    }
   ],
   "source": [
    "from torch.utils.data import DataLoader\n",
    "\n",
    "# Instantiate the DataLoader\n",
    "train_loader = DataLoader(train_dataset, batch_size=batch_size, shuffle=True)\n",
    "val_loader = DataLoader(val_dataset, batch_size=batch_size, shuffle=True)\n",
    "\n",
    "\n",
    "# Train the model\n",
    "epochs = 10\n",
    "history = train(model, train_loader, val_loader, epochs)"
   ]
  },
  {
   "cell_type": "code",
   "execution_count": 321,
   "id": "a232d99b",
   "metadata": {},
   "outputs": [],
   "source": [
    "model_folder = 'model_states/'\n",
    "model_path = model_folder + f\"jazz_midi_transformer_{str(time.time()).split('.')[0]}.pth\"\n",
    "torch.save(model.state_dict(), model_path)"
   ]
  },
  {
   "cell_type": "code",
   "execution_count": 345,
   "id": "a1311919",
   "metadata": {},
   "outputs": [
    {
     "name": "stderr",
     "output_type": "stream",
     "text": [
      "/var/folders/jy/34vkbxz97tbgm78bc07fmx380000gn/T/ipykernel_44372/803665718.py:36: UserWarning: To copy construct from a tensor, it is recommended to use sourceTensor.clone().detach() or sourceTensor.clone().detach().requires_grad_(True), rather than torch.tensor(sourceTensor).\n",
      "  return torch.tensor(input_data, dtype=torch.float32), torch.tensor(target_data, dtype=torch.float32)\n"
     ]
    }
   ],
   "source": [
    "device = torch.device('cpu')\n",
    "model.to(device)\n",
    "\n",
    "# Get the input tensor from the dataset\n",
    "input_tensor, target_tensor = train_dataset[100]\n",
    "input_tensor, target_tensor = input_tensor.unsqueeze(0).to(device), target_tensor.unsqueeze(0).to(device)  # Add a batch dimension and move the tensor to the device\n",
    "\n",
    "# Run the forward function\n",
    "outputs = model(input_tensor)"
   ]
  },
  {
   "cell_type": "code",
   "execution_count": 357,
   "id": "238e322d",
   "metadata": {},
   "outputs": [
    {
     "data": {
      "text/plain": [
       "(128, 8)"
      ]
     },
     "execution_count": 357,
     "metadata": {},
     "output_type": "execute_result"
    }
   ],
   "source": [
    "output_np = [output.detach().numpy()[0] for output in outputs]\n",
    "output_np = [np.argmax(output, axis=1) for output in output_np]\n",
    "output_np = list((map(list, zip(*output_np))))\n",
    "\n",
    "# output_np = np.maximum(np.array(output_np), 1)\n",
    "output_np = np.array(output_np)\n",
    "\n",
    "output_np.shape"
   ]
  },
  {
   "cell_type": "code",
   "execution_count": 358,
   "id": "6b6fe9a4-1d34-4edc-9803-4c80f893ae72",
   "metadata": {},
   "outputs": [],
   "source": [
    "# if len(np.where(output_np[0] == 0)[0]) > 0:\n",
    "#     output_np = output_np[:np.where(output_np[0] == 0)[0][0]]"
   ]
  },
  {
   "cell_type": "code",
   "execution_count": 359,
   "id": "76105f0f-2010-40e2-a8fe-5b477e8f2bc2",
   "metadata": {},
   "outputs": [
    {
     "data": {
      "text/plain": [
       "tensor([[ 4.,  4., 10.,  ...,  4.,  3., 22.],\n",
       "        [ 4.,  4., 10.,  ...,  4.,  3., 21.],\n",
       "        [ 4.,  4., 29.,  ...,  4.,  3.,  1.],\n",
       "        ...,\n",
       "        [ 4.,  4.,  8.,  ...,  4.,  3., 21.],\n",
       "        [ 4.,  4., 12.,  ...,  4.,  3.,  1.],\n",
       "        [ 4.,  4., 16.,  ...,  4.,  3.,  1.]])"
      ]
     },
     "execution_count": 359,
     "metadata": {},
     "output_type": "execute_result"
    }
   ],
   "source": [
    "input_tensor[0]"
   ]
  },
  {
   "cell_type": "code",
   "execution_count": 360,
   "id": "99dea183",
   "metadata": {},
   "outputs": [
    {
     "data": {
      "image/png": "[encoded data removed]",
      "text/plain": [
       "<Figure size 640x480 with 1 Axes>"
      ]
     },
     "metadata": {},
     "output_type": "display_data"
    },
    {
     "data": {
      "image/png": "[encoded data removed]",
      "text/plain": [
       "<Figure size 640x480 with 1 Axes>"
      ]
     },
     "metadata": {},
     "output_type": "display_data"
    },
    {
     "data": {
      "image/png": "[encoded data removed]",
      "text/plain": [
       "<Figure size 640x480 with 1 Axes>"
      ]
     },
     "metadata": {},
     "output_type": "display_data"
    },
    {
     "data": {
      "image/png": "[encoded data removed]",
      "text/plain": [
       "<Figure size 640x480 with 1 Axes>"
      ]
     },
     "metadata": {},
     "output_type": "display_data"
    },
    {
     "data": {
      "image/png": "[encoded data removed]",
      "text/plain": [
       "<Figure size 640x480 with 1 Axes>"
      ]
     },
     "metadata": {},
     "output_type": "display_data"
    },
    {
     "data": {
      "image/png": "[encoded data removed]",
      "text/plain": [
       "<Figure size 640x480 with 1 Axes>"
      ]
     },
     "metadata": {},
     "output_type": "display_data"
    },
    {
     "data": {
      "image/png": "[encoded data removed]",
      "text/plain": [
       "<Figure size 640x480 with 1 Axes>"
      ]
     },
     "metadata": {},
     "output_type": "display_data"
    },
    {
     "data": {
      "image/png": "[encoded data removed]",
      "text/plain": [
       "<Figure size 640x480 with 1 Axes>"
      ]
     },
     "metadata": {},
     "output_type": "display_data"
    }
   ],
   "source": [
    "import matplotlib.pyplot as plt\n",
    "\n",
    "for i in range(len(vocab_sizes)):\n",
    "    plt.title(i)\n",
    "    plt.hist(output_np[:, i], color='blue', alpha=.5, bins=16, label='output')\n",
    "    plt.hist(input_tensor[0][:, i], color='red', alpha=.5, bins=16, label='input')\n",
    "    plt.legend()\n",
    "    plt.show()"
   ]
  },
  {
   "cell_type": "code",
   "execution_count": 361,
   "id": "62db87ad-8950-4da2-ae4e-226a33a773cb",
   "metadata": {},
   "outputs": [],
   "source": [
    "from midi_functions import decode_events,quick_listen_to_midi, MidiTokenizer"
   ]
  },
  {
   "cell_type": "code",
   "execution_count": 362,
   "id": "820a07d4-23e8-41cc-8a61-378f3bfa9c7d",
   "metadata": {},
   "outputs": [
    {
     "data": {
      "text/plain": [
       "array([['note_on', '3', '62', '96', '-1', '-1', '-1', '1'],\n",
       "       ['note_on', '3', '62', '0', '-1', '-1', '-1', '3'],\n",
       "       ['note_on', '3', '63', '92', '-1', '-1', '-1', '0'],\n",
       "       ['note_on', '1', '38', '104', '-1', '-1', '-1', '13'],\n",
       "       ['note_on', '9', '37', '100', '-1', '-1', '-1', '0'],\n",
       "       ['note_on', '9', '51', '127', '-1', '-1', '-1', '0'],\n",
       "       ['note_on', '9', '44', '127', '-1', '-1', '-1', '0'],\n",
       "       ['note_on', '1', '40', '0', '-1', '-1', '-1', '0'],\n",
       "       ['note_on', '3', '67', '17', '-1', '-1', '-1', '0'],\n",
       "       ['note_on', '3', '67', '0', '-1', '-1', '-1', '1'],\n",
       "       ['note_on', '3', '59', '0', '-1', '-1', '-1', '4'],\n",
       "       ['note_on', '9', '37', '0', '-1', '-1', '-1', '1'],\n",
       "       ['note_on', '9', '44', '0', '-1', '-1', '-1', '0'],\n",
       "       ['note_on', '9', '51', '0', '-1', '-1', '-1', '0'],\n",
       "       ['note_on', '3', '54', '0', '-1', '-1', '-1', '2'],\n",
       "       ['note_on', '3', '63', '0', '-1', '-1', '-1', '1'],\n",
       "       ['note_on', '3', '62', '56', '-1', '-1', '-1', '0'],\n",
       "       ['note_on', '3', '62', '0', '-1', '-1', '-1', '9'],\n",
       "       ['note_on', '3', '63', '36', '-1', '-1', '-1', '0'],\n",
       "       ['note_on', '3', '63', '0', '-1', '-1', '-1', '23'],\n",
       "       ['note_on', '3', '55', '80', '-1', '-1', '-1', '1'],\n",
       "       ['note_on', '3', '60', '96', '-1', '-1', '-1', '1'],\n",
       "       ['note_on', '3', '63', '82', '-1', '-1', '-1', '0'],\n",
       "       ['note_on', '9', '51', '127', '-1', '-1', '-1', '5'],\n",
       "       ['note_on', '9', '51', '0', '-1', '-1', '-1', '12'],\n",
       "       ['note_on', '1', '33', '80', '-1', '-1', '-1', '3'],\n",
       "       ['note_on', '1', '38', '0', '-1', '-1', '-1', '1'],\n",
       "       ['note_on', '9', '51', '127', '-1', '-1', '-1', '1'],\n",
       "       ['note_on', '3', '55', '0', '-1', '-1', '-1', '1'],\n",
       "       ['note_on', '3', '63', '0', '-1', '-1', '-1', '3'],\n",
       "       ['note_on', '3', '60', '0', '-1', '-1', '-1', '0'],\n",
       "       ['note_on', '9', '51', '0', '-1', '-1', '-1', '4'],\n",
       "       ['note_on', '3', '60', '100', '-1', '-1', '-1', '35'],\n",
       "       ['note_on', '3', '54', '102', '-1', '-1', '-1', '0'],\n",
       "       ['note_on', '3', '69', '117', '-1', '-1', '-1', '4'],\n",
       "       ['note_on', '3', '63', '37', '-1', '-1', '-1', '4'],\n",
       "       ['note_on', '1', '37', '104', '-1', '-1', '-1', '16'],\n",
       "       ['note_on', '3', '69', '0', '-1', '-1', '-1', '0'],\n",
       "       ['note_on', '1', '33', '0', '-1', '-1', '-1', '1'],\n",
       "       ['note_on', '9', '51', '127', '-1', '-1', '-1', '0'],\n",
       "       ['note_on', '9', '44', '127', '-1', '-1', '-1', '0'],\n",
       "       ['note_on', '3', '54', '0', '-1', '-1', '-1', '0'],\n",
       "       ['note_on', '3', '60', '0', '-1', '-1', '-1', '8'],\n",
       "       ['note_on', '9', '51', '0', '-1', '-1', '-1', '0'],\n",
       "       ['note_on', '3', '63', '0', '-1', '-1', '-1', '0'],\n",
       "       ['note_on', '3', '64', '22', '-1', '-1', '-1', '0'],\n",
       "       ['note_on', '9', '44', '0', '-1', '-1', '-1', '5'],\n",
       "       ['note_on', '3', '64', '0', '-1', '-1', '-1', '11'],\n",
       "       ['note_on', '3', '65', '19', '-1', '-1', '-1', '0'],\n",
       "       ['note_on', '3', '65', '0', '-1', '-1', '-1', '10']], dtype='<U7')"
      ]
     },
     "execution_count": 362,
     "metadata": {},
     "output_type": "execute_result"
    }
   ],
   "source": [
    "tokenizer.detokenize(input_tensor[0].numpy().astype(int))[:50]"
   ]
  },
  {
   "cell_type": "code",
   "execution_count": 363,
   "id": "fd6510d3",
   "metadata": {},
   "outputs": [],
   "source": [
    "\n",
    "test_folder = 'test_output'\n",
    "output_file = test_folder + 'model_input.mid'\n",
    "\n",
    "input_midi = decode_midi_properties(tokenizer.detokenize(input_tensor[0].numpy().astype(int)))\n",
    "input_midi.save(output_file)"
   ]
  },
  {
   "cell_type": "code",
   "execution_count": 372,
   "id": "8b2a5182",
   "metadata": {},
   "outputs": [],
   "source": [
    "from IPython.display import Audio\n",
    "\n",
    "# quick_listen_to_midi(output_file, 'soundfonts/donkey_kong_country_soundfont_collection/Donkey Kong Country 2012.sf2', test_folder )"
   ]
  },
  {
   "cell_type": "code",
   "execution_count": 365,
   "id": "55b9fe7d-b520-4b0f-9038-8ae16b5f181d",
   "metadata": {},
   "outputs": [
    {
     "data": {
      "text/plain": [
       "{'control_change': '1',\n",
       " 'pitchwheel': '2',\n",
       " 'program_change': '3',\n",
       " 'note_on': '4',\n",
       " 'note_off': '5',\n",
       " 'aftertouch': '6',\n",
       " 'polytouch': '7'}"
      ]
     },
     "execution_count": 365,
     "metadata": {},
     "output_type": "execute_result"
    }
   ],
   "source": [
    "tokenizer.tokenizers[0].vocab"
   ]
  },
  {
   "cell_type": "code",
   "execution_count": 368,
   "id": "8ce9cbf0-3e22-4df5-b9e5-7a07f234a2a3",
   "metadata": {},
   "outputs": [],
   "source": [
    "output_np[:, -1] = input_tensor[0].numpy().astype(int)[:, -1]"
   ]
  },
  {
   "cell_type": "code",
   "execution_count": 369,
   "id": "95c85dc6",
   "metadata": {},
   "outputs": [],
   "source": [
    "output_file = test_folder + 'model_output.mid'\n",
    "output_midi = decode_midi_properties(tokenizer.detokenize(output_np))\n",
    "output_midi.save(output_file)"
   ]
  },
  {
   "cell_type": "code",
   "execution_count": 373,
   "id": "cbae1c36",
   "metadata": {},
   "outputs": [],
   "source": [
    "# quick_listen_to_midi(output_file, 'soundfonts/donkey_kong_country_soundfont_collection/Donkey Kong Country 2012.sf2', test_folder )"
   ]
  },
  {
   "cell_type": "code",
   "execution_count": null,
   "id": "f0014e09",
   "metadata": {},
   "outputs": [],
   "source": []
  }
 ],
 "metadata": {
  "kernelspec": {
   "display_name": "midi_venv",
   "language": "python",
   "name": "midi_venv"
  },
  "language_info": {
   "codemirror_mode": {
    "name": "ipython",
    "version": 3
   },
   "file_extension": ".py",
   "mimetype": "text/x-python",
   "name": "python",
   "nbconvert_exporter": "python",
   "pygments_lexer": "ipython3",
   "version": "3.9.10"
  }
 },
 "nbformat": 4,
 "nbformat_minor": 5
}
